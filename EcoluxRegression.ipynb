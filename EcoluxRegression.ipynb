{
 "cells": [
  {
   "cell_type": "code",
   "execution_count": 2,
   "id": "11f4be37-50cb-4884-98d0-5433aff0db10",
   "metadata": {},
   "outputs": [],
   "source": [
    "import pandas as pd\n",
    "\n",
    "# Read in the csv\n",
    "house_path = 'C:\\\\Users\\\\nicho\\\\OneDrive - The University of Western Ontario\\\\Ecolux\\\\Databases\\\\REFIT\\\\Regression Training Set\\\\house5.csv'\n",
    "house_df = pd.read_csv(house_path)"
   ]
  },
  {
   "cell_type": "code",
   "execution_count": 3,
   "id": "747e7d38-e72d-4a62-aa72-c350808f728f",
   "metadata": {},
   "outputs": [],
   "source": [
    "# Converting the time to int with error handling\n",
    "def convert_time_to_seconds(time_str):\n",
    "    try:\n",
    "        hours, minutes, seconds = [int(part) for part in time_str.split(':')]\n",
    "        return hours * 3600 + minutes * 60 + seconds\n",
    "    except ValueError:\n",
    "        return 0\n",
    "\n",
    "house_df['Time'] = house_df['Time'].apply(convert_time_to_seconds)"
   ]
  },
  {
   "cell_type": "code",
   "execution_count": 12,
   "id": "866fabb2-03e7-4a8b-af53-d7f94a991443",
   "metadata": {},
   "outputs": [],
   "source": [
    "# Creating the x and y inputs\n",
    "house_df.drop(house_df.iloc[:, 0:1], inplace=True, axis=1)\n",
    "X = house_df.drop(columns=['HVAC', 'AlwaysOn', 'Intermit'])\n",
    "y = house_df[['HVAC', 'AlwaysOn', 'Intermit']].copy()\n",
    "\n",
    "# Determining sums\n",
    "total_energy = X['Total']\n",
    "y['HVAC_frac'] = y['HVAC'] / total_energy\n",
    "y['AlwaysOn_frac'] = y['AlwaysOn'] / total_energy\n",
    "y['Intermit_frac'] = y['Intermit'] / total_energy\n",
    "\n",
    "# New y with fractions\n",
    "y_frac = y[['AlwaysOn_frac', 'Intermit_frac', 'HVAC_frac']]"
   ]
  },
  {
   "cell_type": "code",
   "execution_count": 13,
   "id": "35a13cce-2366-4c08-8fb2-2e4baba9e5fe",
   "metadata": {},
   "outputs": [],
   "source": [
    "from sklearn.model_selection import train_test_split\n",
    "from sklearn.multioutput import MultiOutputRegressor\n",
    "from sklearn.linear_model import ElasticNet\n",
    "\n",
    "# Assuming X is your feature matrix and y is the target matrix with 3 columns\n",
    "X_train, X_test, y_train, y_test = train_test_split(X, y_frac, test_size=0.2, random_state=42)\n",
    "\n",
    "# y testing data for usage amounts\n",
    "total_energy_test = X_test['Total']\n",
    "y_test_actuals = y_test * total_energy_test[:, None]"
   ]
  },
  {
   "cell_type": "code",
   "execution_count": 14,
   "id": "e9a66868-e38e-4989-9afc-c30191e0def7",
   "metadata": {},
   "outputs": [],
   "source": [
    "# Initialize and fit the model\n",
    "linear_model = MultiOutputRegressor(ElasticNet(random_state=42)).fit(X_train, y_train)\n",
    "\n",
    "# Predicting the percentages\n",
    "y_pred_fracs_linear = linear_model.predict(X_test)\n",
    "\n",
    "# Converting back to energy values\n",
    "y_pred_actuals_linear = y_pred_fracs_linear * total_energy_test.values[:, None]"
   ]
  },
  {
   "cell_type": "code",
   "execution_count": 15,
   "id": "384a7eb4-1383-4f3c-8e67-412f4834ff63",
   "metadata": {},
   "outputs": [
    {
     "name": "stdout",
     "output_type": "stream",
     "text": [
      "MSE per output: [ 10682.51675107 212137.97634034 141786.21964131]\n",
      "R^2 per output: [-8.3082404  -0.17197638  0.24855303]\n"
     ]
    }
   ],
   "source": [
    "# Calculate performance metrics\n",
    "from sklearn.metrics import mean_squared_error, r2_score\n",
    "\n",
    "mse = mean_squared_error(y_test_actuals, y_pred_actuals_linear, multioutput='raw_values')\n",
    "r2 = r2_score(y_test_actuals, y_pred_actuals_linear, multioutput='raw_values')\n",
    "\n",
    "print(\"MSE per output:\", mse)\n",
    "print(\"R^2 per output:\", r2)"
   ]
  },
  {
   "cell_type": "code",
   "execution_count": null,
   "id": "abd00eae-954a-4941-a533-a206e3405b0c",
   "metadata": {},
   "outputs": [],
   "source": [
    "# Now I'm going to try random forest\n",
    "from sklearn.ensemble import RandomForestRegressor\n",
    "\n",
    "# Initialize and fit the model\n",
    "forest_model = MultiOutputRegressor(RandomForestRegressor(n_estimators=100, random_state=42)).fit(X_train, y_train)\n",
    "\n",
    "# Predict the fractions\n",
    "y_pred_fracs_forest = forest_model.predict(X_test)\n",
    "\n",
    "# Convert predictions back to energy values, as before\n",
    "y_pred_actuals_forest = y_pred_fracs_forest * total_energy_test[:, None]"
   ]
  },
  {
   "cell_type": "code",
   "execution_count": null,
   "id": "2f64d73e-d77d-4132-af1e-d91f7bffe2d8",
   "metadata": {},
   "outputs": [],
   "source": [
    "# Calculate performance metrics\n",
    "from sklearn.metrics import mean_squared_error, r2_score\n",
    "\n",
    "mse = mean_squared_error(y_test_actuals, y_pred_actuals_forest, multioutput='raw_values')\n",
    "r2 = r2_score(y_test_actuals, y_pred_actuals_forest, multioutput='raw_values')\n",
    "\n",
    "print(\"MSE per output:\", mse)\n",
    "print(\"R^2 per output:\", r2)"
   ]
  },
  {
   "cell_type": "code",
   "execution_count": 10,
   "id": "46af6598-7d18-4f15-92c5-fe0d739f5a94",
   "metadata": {},
   "outputs": [],
   "source": [
    "# Now I'm going to try gradient boosting\n",
    "from xgboost import XGBRegressor\n",
    "\n",
    "# Initialize and fit the model\n",
    "boost_model = MultiOutputRegressor(XGBRegressor(objective='reg:squarederror', n_estimators=100, random_state=42)).fit(X_train, y_train)\n",
    "\n",
    "# Predict the fractions\n",
    "y_pred_fracs_boost = boost_model.predict(X_test)\n",
    "\n",
    "# Convert predictions back to energy values, as before\n",
    "y_pred_actuals_boost = y_pred_fracs_boost * total_energy_test[:, None]"
   ]
  },
  {
   "cell_type": "code",
   "execution_count": 11,
   "id": "33760e2b-03ad-4dfc-bd87-9651230a4fc9",
   "metadata": {},
   "outputs": [
    {
     "name": "stdout",
     "output_type": "stream",
     "text": [
      "MSE per output: [33623.66344407   994.7341691  33044.27320436]\n",
      "R^2 per output: [0.82179932 0.13323564 0.81744378]\n"
     ]
    }
   ],
   "source": [
    "# Calculate performance metrics\n",
    "from sklearn.metrics import mean_squared_error, r2_score\n",
    "\n",
    "mse = mean_squared_error(y_test_actuals, y_pred_actuals_boost, multioutput='raw_values')\n",
    "r2 = r2_score(y_test_actuals, y_pred_actuals_boost, multioutput='raw_values')\n",
    "\n",
    "print(\"MSE per output:\", mse)\n",
    "print(\"R^2 per output:\", r2)"
   ]
  },
  {
   "cell_type": "code",
   "execution_count": null,
   "id": "b9fa5482-1c50-4481-b4dd-26118290311a",
   "metadata": {},
   "outputs": [],
   "source": []
  }
 ],
 "metadata": {
  "kernelspec": {
   "display_name": "Python 3 (ipykernel)",
   "language": "python",
   "name": "python3"
  },
  "language_info": {
   "codemirror_mode": {
    "name": "ipython",
    "version": 3
   },
   "file_extension": ".py",
   "mimetype": "text/x-python",
   "name": "python",
   "nbconvert_exporter": "python",
   "pygments_lexer": "ipython3",
   "version": "3.8.18"
  }
 },
 "nbformat": 4,
 "nbformat_minor": 5
}
